{
 "cells": [
  {
   "cell_type": "code",
   "execution_count": 2,
   "metadata": {},
   "outputs": [
    {
     "name": "stdout",
     "output_type": "stream",
     "text": [
      "233168\n"
     ]
    }
   ],
   "source": [
    " # 22.06.10 (금)\n",
    " # 10보다 작은 자연수 중에서 3 또는 5의 배수는 3, 5, 6, 9 이고, 이것을 모두 더하면 23입니다.\n",
    " # 1000보다 작은 자연수 중에서 3 또는 5의 배수를 모두 더하면 얼마일까요?\n",
    " # for문 실습\n",
    "  \n",
    "sum = 0\n",
    "for i in range (1,1000) : \n",
    "        if i%3 == 0 or i%5 == 0:\n",
    "            sum = sum+i\n",
    "print(sum)\n",
    "    #답 : 233168\n",
    "    # 왜 마지막 값만 안나오고 다나오지....?????\n"
   ]
  },
  {
   "cell_type": "code",
   "execution_count": 17,
   "metadata": {},
   "outputs": [
    {
     "name": "stdout",
     "output_type": "stream",
     "text": [
      "3\n",
      "8\n",
      "16\n",
      "29\n",
      "50\n",
      "84\n",
      "139\n",
      "228\n",
      "372\n",
      "605\n",
      "982\n"
     ]
    }
   ],
   "source": [
    "    # 22.06.11 (토) \n",
    "# 피보나치(Fibonacci) 수열의 각 항은 바로 앞의 항 두 개를 더한 것입니다. \n",
    "# 1과 2로 시작하는 경우 이 수열은 아래와 같습니다.\n",
    "# 1, 2, 3, 5, 8, 13, 21, 34, 55, 89, ...\n",
    "# 4백만 이하의 짝수 값을 갖는 모든 피보나치 항을 더하면 얼마가 됩니까?\n",
    "    \n",
    "a = 1\n",
    "b = 2\n",
    "c= a+b\n",
    "sum = 0\n",
    "   \n",
    "while (c <= 400):\n",
    "        if c%2 == 0:\n",
    "        sum = sum + c\n",
    "        a=b\n",
    "        b=c\n",
    "        c=a+b\n",
    "        print(sum)"
   ]
  },
  {
   "cell_type": "code",
   "execution_count": 38,
   "metadata": {},
   "outputs": [
    {
     "name": "stdout",
     "output_type": "stream",
     "text": [
      "4613732\n"
     ]
    }
   ],
   "source": [
    "    # 22.06.11 (토) \n",
    "# 피보나치(Fibonacci) 수열의 각 항은 바로 앞의 항 두 개를 더한 것입니다. \n",
    "# 1과 2로 시작하는 경우 이 수열은 아래와 같습니다.\n",
    "# 1, 2, 3, 5, 8, 13, 21, 34, 55, 89, ...\n",
    "# 4백만 이하의 짝수 값을 갖는 모든 피보나치 항을 더하면 얼마가 됩니까?\n",
    "\n",
    "\n",
    "a1 = 1\n",
    "a2 = 2\n",
    "nth = a1 + a2\n",
    "answer_sheet_list = []\n",
    "answer_sheet_list.append(a2)\n",
    "count = 4000000\n",
    "while nth < count:\n",
    "        a1 = a2\n",
    "        a2 = nth\n",
    "        nth = a1 + a2\n",
    "        if nth %2 == 0:\n",
    "            answer_sheet_list.append(nth)\n",
    "answer = 0\n",
    "for i in answer_sheet_list:\n",
    "        if i <= count:\n",
    "                answer += i\n",
    "print(answer)"
   ]
  },
  {
   "cell_type": "code",
   "execution_count": 13,
   "metadata": {},
   "outputs": [
    {
     "name": "stdout",
     "output_type": "stream",
     "text": [
      "4613732\n"
     ]
    }
   ],
   "source": [
    "a1 = 1\n",
    "a2 = 2\n",
    "nth = a1 + a2\n",
    "answer_sheet_list = []\n",
    "answer_sheet_list.append(a2)\n",
    "while nth < 4000000 :\n",
    "        a1 = a2\n",
    "        a2 = nth\n",
    "        nth = a1 + a2\n",
    "        if nth %2 == 0:\n",
    "            answer_sheet_list.append(nth)\n",
    "answer=0\n",
    "for i in answer_sheet_list :\n",
    "    if i <= 4000000:\n",
    "        answer += i\n",
    "print(answer)\n",
    "\n",
    "\n",
    "\n",
    "\n",
    "\n"
   ]
  },
  {
   "cell_type": "code",
   "execution_count": 11,
   "metadata": {},
   "outputs": [
    {
     "name": "stdout",
     "output_type": "stream",
     "text": [
      "6857\n"
     ]
    }
   ],
   "source": [
    "# 22.06.15 (수) \n",
    "# 어떤 수를 소수의 곱으로만 나타내는 것을 소인수분해라 하고, 이 소수들을 그 수의 소인수라고 합니다.\n",
    "# 예를 들면 13195의 소인수는 5, 7, 13, 29 입니다.\n",
    "\n",
    "# 600851475143의 소인수 중에서 가장 큰 수를 구하세요.\n",
    "\n",
    "num = 600851475143\n",
    "p_n = 2\n",
    "\n",
    "while p_n < num :\n",
    "    if num % p_n == 0 :\n",
    "        num = num / p_n\n",
    "    else :\n",
    "\n",
    "        p_n = p_n + 1\n",
    "# print(num)\n",
    "print(int(num))\n",
    "\n",
    "\n"
   ]
  },
  {
   "cell_type": "code",
   "execution_count": 6,
   "metadata": {},
   "outputs": [
    {
     "name": "stdout",
     "output_type": "stream",
     "text": [
      "998001\n"
     ]
    }
   ],
   "source": [
    "# 22.06.16 (목) problem4\n",
    "# 세자리 수를 곱해 만들 수 있는 가장 큰 대칭수\n",
    "# 앞에서부터 읽을 때나 뒤에서부터 읽을 때나 모양이 같은 수를 대칭수(palindrome)라고 부릅니다.\n",
    "# 두 자리 수를 곱해 만들 수 있는 대칭수 중 가장 큰 수는 9009 (= 91 × 99) 입니다.\n",
    "# 세 자리 수를 곱해 만들 수 있는 가장 큰 대칭수는 얼마입니까?\n",
    " \n",
    "result = []\n",
    "for i in range (100, 1000):\n",
    "       for j in range (100, 1000):\n",
    "             num = i*j \n",
    "             \n",
    "result.append(num)\n",
    "print (max(result))"
   ]
  },
  {
   "cell_type": "code",
   "execution_count": 70,
   "metadata": {},
   "outputs": [
    {
     "name": "stdout",
     "output_type": "stream",
     "text": [
      "906609\n"
     ]
    }
   ],
   "source": [
    "num_list = []\n",
    "for i in range(300,1001):\n",
    "    for j in range(300,1001):\n",
    "        num = i * j\n",
    "        num_string = str(num)\n",
    "        if num_string[:3] == num_string[:2:-1]:\n",
    "            # print(num)\n",
    "            num_list.append(num)\n",
    "num_list.sort()\n",
    "\n",
    "print(num_list[-1])"
   ]
  },
  {
   "cell_type": "code",
   "execution_count": 81,
   "metadata": {},
   "outputs": [
    {
     "name": "stdout",
     "output_type": "stream",
     "text": [
      "error\n"
     ]
    }
   ],
   "source": [
    "# 22.06.17 (금) problem5\n",
    "# 1 ~ 10 사이의 어떤 수로도 나누어 떨어지는 가장 작은 수는 2520입니다.\n",
    "# 그러면 1 ~ 20 사이의 어떤 수로도 나누어 떨어지는 가장 작은 수는 얼마입니까?\n",
    "\n",
    "# 2521 부터고 \n",
    "# 나누어 떨어지는 가장 작은 수는 짝수임\n",
    "# 왜냐면 홀수는 2로 안 나눠지므로 홀수는 제외이므로. \n",
    "# +2씩 갈거임\n",
    "\n",
    "# 구선생님이 풀어줄거임.\n",
    "i = 0\n",
    "i_limit = 2521\n",
    "\n",
    "while True:\n",
    "       i += 1\n",
    "       count = 0\n",
    "       for j in range(1,11):\n",
    "              if i // j == 0:\n",
    "                  count += 1\n",
    "              elif count == 10:\n",
    "                     print(i)\n",
    "                     break\n",
    "\n",
    "       if i >= i_limit:\n",
    "              print(\"error\")\n",
    "              break\n"
   ]
  },
  {
   "cell_type": "code",
   "execution_count": 14,
   "metadata": {},
   "outputs": [
    {
     "name": "stdout",
     "output_type": "stream",
     "text": [
      "25164150\n",
      "25164150\n"
     ]
    }
   ],
   "source": [
    "# 22.06.18 (토) problem6 ★★☆☆☆\n",
    "# 1부터 100까지 \"제곱의 합\"과 \"합의 제곱\"의 차는?\n",
    "# 1부터 10까지 자연수를 각각 제곱해 더하면 다음과 같습니다 (제곱의 합).\n",
    "# 12 + 22 + ... + 102 = 385\n",
    "# 1부터 10을 먼저 더한 다음에 그 결과를 제곱하면 다음과 같습니다 (합의 제곱).\n",
    "# (1 + 2 + ... + 10)2 = 552 = 3025\n",
    "# 따라서 1부터 10까지 자연수에 대해 \"합의 제곱\"과 \"제곱의 합\" 의 차이는 3025 - 385 = 2640 이 됩니다.\n",
    "# 그러면 1부터 100까지 자연수에 대해 \"합의 제곱\"과 \"제곱의 합\"의 차이는 얼마입니까?\n",
    "\n",
    "# answer_problem_first_try\n",
    "total_a = 0\n",
    "total_b = 0\n",
    "for i in range(1,101):\n",
    "    total_a = total_a + i**2\n",
    "    total_b = total_b + i\n",
    "print(total_b**2-total_a)\n",
    "\n",
    "# answer_problem_using_def\n",
    "# 제곱의 합 : the sum of squares\n",
    "# 합의 제곱 : the square of the sum\n",
    "# abs() : 절대값\n",
    "def get_sum_of_sq(): \n",
    "    total = 0\n",
    "    for i in range(1,101):\n",
    "        total = total + i**2\n",
    "    return total\n",
    "def get_sq_of_sum():\n",
    "    total = 0\n",
    "    for i in range(1,101):\n",
    "        total = total + i\n",
    "    return total**2\n",
    "print(abs(get_sum_of_sq()-get_sq_of_sum()))\n",
    "\n"
   ]
  },
  {
   "cell_type": "code",
   "execution_count": 2,
   "metadata": {},
   "outputs": [
    {
     "ename": "NameError",
     "evalue": "name 'i' is not defined",
     "output_type": "error",
     "traceback": [
      "\u001b[1;31m---------------------------------------------------------------------------\u001b[0m",
      "\u001b[1;31mNameError\u001b[0m                                 Traceback (most recent call last)",
      "\u001b[1;32mc:\\Users\\4028\\Documents\\python\\lesson1\\euler.ipynb Cell 1'\u001b[0m in \u001b[0;36m<cell line: 11>\u001b[1;34m()\u001b[0m\n\u001b[0;32m      <a href='vscode-notebook-cell:/c%3A/Users/4028/Documents/python/lesson1/euler.ipynb#ch0000000?line=8'>9</a>\u001b[0m             \u001b[39mreturn\u001b[39;00m \u001b[39m0\u001b[39m \n\u001b[0;32m     <a href='vscode-notebook-cell:/c%3A/Users/4028/Documents/python/lesson1/euler.ipynb#ch0000000?line=10'>11</a>\u001b[0m \u001b[39mwhile\u001b[39;00m \u001b[39mTrue\u001b[39;00m:\n\u001b[1;32m---> <a href='vscode-notebook-cell:/c%3A/Users/4028/Documents/python/lesson1/euler.ipynb#ch0000000?line=11'>12</a>\u001b[0m        i \u001b[39m+\u001b[39m\u001b[39m=\u001b[39m \u001b[39m1\u001b[39m\n\u001b[0;32m     <a href='vscode-notebook-cell:/c%3A/Users/4028/Documents/python/lesson1/euler.ipynb#ch0000000?line=12'>13</a>\u001b[0m        count \u001b[39m=\u001b[39m \u001b[39m0\u001b[39m\n\u001b[0;32m     <a href='vscode-notebook-cell:/c%3A/Users/4028/Documents/python/lesson1/euler.ipynb#ch0000000?line=13'>14</a>\u001b[0m        \u001b[39mfor\u001b[39;00m j \u001b[39min\u001b[39;00m \u001b[39mrange\u001b[39m(\u001b[39m1\u001b[39m,\u001b[39m10001\u001b[39m):\n",
      "\u001b[1;31mNameError\u001b[0m: name 'i' is not defined"
     ]
    }
   ],
   "source": [
    "# 22.06.19 (일) problem7 ★★★☆☆\n",
    "# 10001번째의 소수 \n",
    "# 소수를 크기 순으로 나열하면 2, 3, 5, 7, 11, 13, ... 과 같이 됩니다.\n",
    "# 이 때 10,001번째의 소수를 구하세요.\n",
    "\n",
    "\n",
    "def decimal(nth):\n",
    "    for i in range(2,nth):\n",
    "        if nth % i == 0:\n",
    "            return 0 \n",
    "\n",
    "\n",
    "i += 1\n",
    "count = 0\n",
    "for j in range(1,10001):\n",
    "    if j % i == 0:\n",
    "        count += 1\n",
    "    elif count == 10:\n",
    "            print(i)\n",
    "            break\n",
    "\n",
    "# 푸는 중.. "
   ]
  },
  {
   "cell_type": "code",
   "execution_count": 1,
   "metadata": {},
   "outputs": [
    {
     "name": "stdout",
     "output_type": "stream",
     "text": [
      "23514624000\n"
     ]
    }
   ],
   "source": [
    "# 22.06.２０ (월) problem８ ★★★★☆\n",
    "# 1000자리 수 안에서 연속된 13개 숫자 곱의 최댓값 \n",
    "# 다음은 연속된 1000자리 수입니다 (읽기 좋게 50자리씩 잘라 놓음).\n",
    "# # 여기서 붉게 표시된 71112의 경우 연속한 5개 숫자 7, 1, 1, 1, 2를 모두 곱하면 14입니다.\n",
    "# 또, 그 다음 연속한 5개 숫자 11121의 경우 1, 1, 1, 2, 1을 모두 곱하면 2입니다.\n",
    "# 이런 식으로 맨 처음 (7 × 3 × 1 × 6 × 7 = 882) 부터 맨 끝 (6 × 3 × 4 × 5 × 0 = 0) 까지 연속한 5개 숫자의 곱을 구할 수 있습니다.\n",
    "# 이렇게 구할 수 있는 연속한 5개 숫자의 곱 중에서 가장 큰 값은 40824 입니다.\n",
    "# 연속한 4개 숫자의 곱 중에서 가장 큰 값은 파랗게 표시된 9 × 9 × 8 × 9 = 5832 입니다.\n",
    "# 위의 1000자리 수에서 연속한 13개 숫자의 곱이 가장 큰 값은 얼마입니까?\n",
    "\n",
    "\n",
    "number = '''73167176531330624919225119674426574742355349194934\n",
    "96983520312774506326239578318016984801869478851843\n",
    "85861560789112949495459501737958331952853208805511\n",
    "12540698747158523863050715693290963295227443043557\n",
    "66896648950445244523161731856403098711121722383113\n",
    "62229893423380308135336276614282806444486645238749\n",
    "30358907296290491560440772390713810515859307960866\n",
    "70172427121883998797908792274921901699720888093776\n",
    "65727333001053367881220235421809751254540594752243\n",
    "52584907711670556013604839586446706324415722155397\n",
    "53697817977846174064955149290862569321978468622482\n",
    "83972241375657056057490261407972968652414535100474\n",
    "82166370484403199890008895243450658541227588666881\n",
    "16427171479924442928230863465674813919123162824586\n",
    "17866458359124566529476545682848912883142607690042\n",
    "24219022671055626321111109370544217506941658960408\n",
    "07198403850962455444362981230987879927244284909188\n",
    "84580156166097919133875499200524063689912560717606\n",
    "05886116467109405077541002256983155200055935729725\n",
    "71636269561882670428252483600823257530420752963450'''\n",
    "## ''' ... ''' 작은따옴표 3개\n",
    "\n",
    "greatest_product = 0\n",
    "numstring = number.strip().replace('\\n', '')\n",
    "## strip 함수 : 문자열 양 끝에 있는 공백제거\n",
    "## replace 함수 : 숫자들 줄내림 시 \\n을 ''로 바꿔줌\n",
    "\n",
    "\n",
    "for i in range(len(numstring)):\n",
    "    product = 1\n",
    "    # 13개 숫자. 문자열\n",
    "    substring = numstring[i:i+13]  \n",
    "    for digit in substring:\n",
    "        # 정수로 바꿔주고 서로 곱해주기. 곱셈이므로 순서 상관없음\n",
    "        product = product*int(digit)  \n",
    "     # max값 구하는 방법의 또다른 표현임\n",
    "    if product > greatest_product:  \n",
    "        greatest_product = product\n",
    "\n",
    "print(greatest_product)\n",
    "\n"
   ]
  },
  {
   "cell_type": "code",
   "execution_count": 11,
   "metadata": {},
   "outputs": [
    {
     "name": "stdout",
     "output_type": "stream",
     "text": [
      "200 375 425\n",
      "31875000\n"
     ]
    }
   ],
   "source": [
    "# 22.06.２1 (화) problem9 ★★★☆☆\n",
    "# a + b + c = 1000 이 되는 피타고라스 수\n",
    "# 세 자연수 a, b, c 가 피타고라스 정리 a2 + b2 = c2 를 만족하면 피타고라스 수라고 부릅니다 (여기서 a < b < c ).\n",
    "# 예를 들면 3**2 + 4**2 = 9 + 16 = 25 = 5**2이므로 3, 4, 5는 피타고라스 수입니다.\n",
    "# a + b + c = 1000 인 피타고라스 수 a, b, c는 한 가지 뿐입니다. 이 때, a × b × c 는 얼마입니까?\n",
    "\n",
    "# a = int()\n",
    "# b = int()\n",
    "# a + b + c == 1000\n",
    "# c = 1000-a-b = 1000-(a+b)\n",
    "# c**2 == (1000-a-b)**2 == a**2 + b**2 \n",
    "# a**2 + 2*a*b + b**2 == (a+b)**2\n",
    "# (a+b)**2 - 2*a*b == (1000-a-b)**2\n",
    "# a < b < c\n",
    "# a*b*c = ?\n",
    "\n",
    "# a < b 이므로 a, b range 설정 아래와 같음 \n",
    "for b in range (1,1000):\n",
    "    for a in range (1,b):\n",
    "        if (1000-a-b)**2 == a**2 + b**2 : \n",
    "            print (a,b,1000-a-b)\n",
    "            print (a*b*(1000-a-b))\n",
    "            break\n"
   ]
  },
  {
   "cell_type": "code",
   "execution_count": 2,
   "metadata": {},
   "outputs": [],
   "source": [
    "# 22.06.２2 (수) problem10 ★★★★☆\n",
    "# 이백만 이하 소수의 합\n",
    "# 10 이하의 소수를 모두 더하면 2 + 3 + 5 + 7 = 17 이 됩니다.\n",
    "# 이백만(2,000,000) 이하 소수의 합은 얼마입니까?\n",
    "\n",
    "\n",
    "# n= [3,2000000]\n",
    "# for i in range (3,2000000): \n",
    "#     if n % i ==0:\n",
    "#         sum=sum+i\n",
    "# print(sum)\n",
    "\n",
    "# import time\n",
    "# sum = 2\n",
    "# start = time.time()\n",
    "# for number in range(3,2000000):\n",
    "#     prime = True\n",
    "#     for x in range (2,number):\n",
    "#         if number % x ==0:\n",
    "#             prime =False\n",
    "#     if prime:\n",
    "#         sum = sum + number\n",
    "# print (sum)\n",
    "\n",
    "\n",
    "# The sum of the primes below 10 is 2 + 3 + 5 + 7 = 17.\n",
    "# Find the sum of all the primes below two million.\n",
    "# returns True if parameter n is a prime number, \n",
    "# False if composite and \"Neither prime, nor composite\" if neither\n",
    "\n",
    "def isPrime(n):\n",
    "    if n<2: \n",
    "        return \"Neither prime, nor composite\"\n",
    "    # 약수는 짝꿍이루므로 중간값까지 구하기. 루트 씌운 값이 중간값이 됨. \n",
    "    for i in range(2, int(n**0.5)+1):\n",
    "        if n % i == 0:\n",
    "            return False\n",
    "    return True\n",
    "\n",
    "sum = 0\n",
    "for i in range(2,2000000):\n",
    "    if isPrime(i):\n",
    "        sum += i\n",
    "\n",
    "print(sum)\n",
    "        \n",
    "\n"
   ]
  },
  {
   "cell_type": "markdown",
   "metadata": {},
   "source": []
  },
  {
   "cell_type": "markdown",
   "metadata": {},
   "source": []
  }
 ],
 "metadata": {
  "kernelspec": {
   "display_name": "Python 3.10.4 64-bit",
   "language": "python",
   "name": "python3"
  },
  "language_info": {
   "codemirror_mode": {
    "name": "ipython",
    "version": 3
   },
   "file_extension": ".py",
   "mimetype": "text/x-python",
   "name": "python",
   "nbconvert_exporter": "python",
   "pygments_lexer": "ipython3",
   "version": "3.10.4"
  },
  "orig_nbformat": 4,
  "vscode": {
   "interpreter": {
    "hash": "7b0a31e8b1db3e4addfbbbd5164a7cac4aa070b2d40afb83cb42ea886b16ecec"
   }
  }
 },
 "nbformat": 4,
 "nbformat_minor": 2
}
