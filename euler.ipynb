{
 "cells": [
  {
   "cell_type": "code",
   "execution_count": 2,
   "metadata": {},
   "outputs": [
    {
     "name": "stdout",
     "output_type": "stream",
     "text": [
      "233168\n"
     ]
    }
   ],
   "source": [
    " # 22.06.10 (금)\n",
    " # 10보다 작은 자연수 중에서 3 또는 5의 배수는 3, 5, 6, 9 이고, 이것을 모두 더하면 23입니다.\n",
    " # 1000보다 작은 자연수 중에서 3 또는 5의 배수를 모두 더하면 얼마일까요?\n",
    " # for문 실습\n",
    "  \n",
    "sum = 0\n",
    "for i in range (1,1000) : \n",
    "        if i%3 == 0 or i%5 == 0:\n",
    "            sum = sum+i\n",
    "print(sum)\n",
    "    #답 : 233168\n",
    "    # 왜 마지막 값만 안나오고 다나오지....?????\n"
   ]
  },
  {
   "cell_type": "code",
   "execution_count": 17,
   "metadata": {},
   "outputs": [
    {
     "name": "stdout",
     "output_type": "stream",
     "text": [
      "3\n",
      "8\n",
      "16\n",
      "29\n",
      "50\n",
      "84\n",
      "139\n",
      "228\n",
      "372\n",
      "605\n",
      "982\n"
     ]
    }
   ],
   "source": [
    "    # 22.06.11 (토) \n",
    "# 피보나치(Fibonacci) 수열의 각 항은 바로 앞의 항 두 개를 더한 것입니다. \n",
    "# 1과 2로 시작하는 경우 이 수열은 아래와 같습니다.\n",
    "# 1, 2, 3, 5, 8, 13, 21, 34, 55, 89, ...\n",
    "# 4백만 이하의 짝수 값을 갖는 모든 피보나치 항을 더하면 얼마가 됩니까?\n",
    "    \n",
    "a = 1\n",
    "b = 2\n",
    "c= a+b\n",
    "sum = 0\n",
    "   \n",
    "while (c <= 400):\n",
    "        if c%2 == 0:\n",
    "        sum = sum + c\n",
    "        a=b\n",
    "        b=c\n",
    "        c=a+b\n",
    "        print(sum)"
   ]
  },
  {
   "cell_type": "code",
   "execution_count": 38,
   "metadata": {},
   "outputs": [
    {
     "name": "stdout",
     "output_type": "stream",
     "text": [
      "4613732\n"
     ]
    }
   ],
   "source": [
    "    # 22.06.11 (토) \n",
    "# 피보나치(Fibonacci) 수열의 각 항은 바로 앞의 항 두 개를 더한 것입니다. \n",
    "# 1과 2로 시작하는 경우 이 수열은 아래와 같습니다.\n",
    "# 1, 2, 3, 5, 8, 13, 21, 34, 55, 89, ...\n",
    "# 4백만 이하의 짝수 값을 갖는 모든 피보나치 항을 더하면 얼마가 됩니까?\n",
    "\n",
    "\n",
    "a1 = 1\n",
    "a2 = 2\n",
    "nth = a1 + a2\n",
    "answer_sheet_list = []\n",
    "answer_sheet_list.append(a2)\n",
    "count = 4000000\n",
    "while nth < count:\n",
    "        a1 = a2\n",
    "        a2 = nth\n",
    "        nth = a1 + a2\n",
    "        if nth %2 == 0:\n",
    "            answer_sheet_list.append(nth)\n",
    "answer = 0\n",
    "for i in answer_sheet_list:\n",
    "        if i <= count:\n",
    "                answer += i\n",
    "print(answer)"
   ]
  }
 ],
 "metadata": {
  "kernelspec": {
   "display_name": "Python 3.10.4 64-bit",
   "language": "python",
   "name": "python3"
  },
  "language_info": {
   "codemirror_mode": {
    "name": "ipython",
    "version": 3
   },
   "file_extension": ".py",
   "mimetype": "text/x-python",
   "name": "python",
   "nbconvert_exporter": "python",
   "pygments_lexer": "ipython3",
   "version": "3.10.4"
  },
  "orig_nbformat": 4,
  "vscode": {
   "interpreter": {
    "hash": "7b0a31e8b1db3e4addfbbbd5164a7cac4aa070b2d40afb83cb42ea886b16ecec"
   }
  }
 },
 "nbformat": 4,
 "nbformat_minor": 2
}
