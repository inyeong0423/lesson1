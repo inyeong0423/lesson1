{
 "cells": [
  {
   "cell_type": "code",
   "execution_count": 3,
   "metadata": {},
   "outputs": [
    {
     "name": "stdout",
     "output_type": "stream",
     "text": [
      "233168\n"
     ]
    }
   ],
   "source": [
    " # 22.06.10 (금)\n",
    " # 10보다 작은 자연수 중에서 3 또는 5의 배수는 3, 5, 6, 9 이고, 이것을 모두 더하면 23입니다.\n",
    " # 1000보다 작은 자연수 중에서 3 또는 5의 배수를 모두 더하면 얼마일까요?\n",
    " # for문 실습\n",
    "  \n",
    "sum = 0\n",
    "for i in range (1,1000) : \n",
    "        if i%3 == 0 or i%5 == 0:\n",
    "            sum = sum+i\n",
    "print(sum)\n",
    "    #답 : 233168\n",
    "    # 왜 마지막 값만 안나오고 다나오지....?????\n"
   ]
  },
  {
   "cell_type": "code",
   "execution_count": 4,
   "metadata": {},
   "outputs": [
    {
     "ename": "IndentationError",
     "evalue": "expected an indented block after 'if' statement on line 13 (1234143907.py, line 14)",
     "output_type": "error",
     "traceback": [
      "\u001b[1;36m  Input \u001b[1;32mIn [4]\u001b[1;36m\u001b[0m\n\u001b[1;33m    sum = sum + c\u001b[0m\n\u001b[1;37m    ^\u001b[0m\n\u001b[1;31mIndentationError\u001b[0m\u001b[1;31m:\u001b[0m expected an indented block after 'if' statement on line 13\n"
     ]
    }
   ],
   "source": [
    "    # 22.06.11 (토) \n",
    "# 피보나치(Fibonacci) 수열의 각 항은 바로 앞의 항 두 개를 더한 것입니다. \n",
    "# 1과 2로 시작하는 경우 이 수열은 아래와 같습니다.\n",
    "# 1, 2, 3, 5, 8, 13, 21, 34, 55, 89, ...\n",
    "# 4백만 이하의 짝수 값을 갖는 모든 피보나치 항을 더하면 얼마가 됩니까?\n",
    "    \n",
    "a = 1\n",
    "b = 2\n",
    "c= a+b\n",
    "sum = 0\n",
    "   \n",
    "while (c <= 400):\n",
    "        if c%2 == 0:\n",
    "        sum = sum + c\n",
    "        a=b\n",
    "        b=c\n",
    "        c=a+b\n",
    "        print(sum)"
   ]
  },
  {
   "cell_type": "code",
   "execution_count": null,
   "metadata": {},
   "outputs": [
    {
     "name": "stdout",
     "output_type": "stream",
     "text": [
      "4613732\n"
     ]
    }
   ],
   "source": [
    "    # 22.06.11 (토) \n",
    "# 피보나치(Fibonacci) 수열의 각 항은 바로 앞의 항 두 개를 더한 것입니다. \n",
    "# 1과 2로 시작하는 경우 이 수열은 아래와 같습니다.\n",
    "# 1, 2, 3, 5, 8, 13, 21, 34, 55, 89, ...\n",
    "# 4백만 이하의 짝수 값을 갖는 모든 피보나치 항을 더하면 얼마가 됩니까?\n",
    "\n",
    "\n",
    "a1 = 1\n",
    "a2 = 2\n",
    "nth = a1 + a2\n",
    "answer_sheet_list = []\n",
    "answer_sheet_list.append(a2)\n",
    "count = 4000000\n",
    "while nth < count:\n",
    "        a1 = a2\n",
    "        a2 = nth\n",
    "        nth = a1 + a2\n",
    "        if nth %2 == 0:\n",
    "            answer_sheet_list.append(nth)\n",
    "answer = 0\n",
    "for i in answer_sheet_list:\n",
    "        if i <= count:\n",
    "                answer += i\n",
    "print(answer)"
   ]
  },
  {
   "cell_type": "code",
   "execution_count": null,
   "metadata": {},
   "outputs": [
    {
     "name": "stdout",
     "output_type": "stream",
     "text": [
      "4613732\n"
     ]
    }
   ],
   "source": [
    "a1 = 1\n",
    "a2 = 2\n",
    "nth = a1 + a2\n",
    "answer_sheet_list = []\n",
    "answer_sheet_list.append(a2)\n",
    "while nth < 4000000 :\n",
    "        a1 = a2\n",
    "        a2 = nth\n",
    "        nth = a1 + a2\n",
    "        if nth %2 == 0:\n",
    "            answer_sheet_list.append(nth)\n",
    "answer=0\n",
    "for i in answer_sheet_list :\n",
    "    if i <= 4000000:\n",
    "        answer += i\n",
    "print(answer)\n",
    "\n",
    "\n",
    "\n",
    "\n",
    "\n"
   ]
  },
  {
   "cell_type": "code",
   "execution_count": null,
   "metadata": {},
   "outputs": [
    {
     "name": "stdout",
     "output_type": "stream",
     "text": [
      "6857\n"
     ]
    }
   ],
   "source": [
    "# 22.06.15 (수) \n",
    "# 어떤 수를 소수의 곱으로만 나타내는 것을 소인수분해라 하고, 이 소수들을 그 수의 소인수라고 합니다.\n",
    "# 예를 들면 13195의 소인수는 5, 7, 13, 29 입니다.\n",
    "\n",
    "# 600851475143의 소인수 중에서 가장 큰 수를 구하세요.\n",
    "\n",
    "num = 600851475143\n",
    "p_n = 2\n",
    "\n",
    "while p_n < num :\n",
    "    if num % p_n == 0 :\n",
    "        num = num / p_n\n",
    "    else :\n",
    "\n",
    "        p_n = p_n + 1\n",
    "# print(num)\n",
    "print(int(num))\n",
    "\n",
    "\n"
   ]
  },
  {
   "cell_type": "code",
   "execution_count": null,
   "metadata": {},
   "outputs": [
    {
     "name": "stdout",
     "output_type": "stream",
     "text": [
      "998001\n"
     ]
    }
   ],
   "source": [
    "# 22.06.16 (목) problem4\n",
    "# 세자리 수를 곱해 만들 수 있는 가장 큰 대칭수\n",
    "# 앞에서부터 읽을 때나 뒤에서부터 읽을 때나 모양이 같은 수를 대칭수(palindrome)라고 부릅니다.\n",
    "# 두 자리 수를 곱해 만들 수 있는 대칭수 중 가장 큰 수는 9009 (= 91 × 99) 입니다.\n",
    "# 세 자리 수를 곱해 만들 수 있는 가장 큰 대칭수는 얼마입니까?\n",
    " \n",
    "result = []\n",
    "for i in range (100, 1000):\n",
    "       for j in range (100, 1000):\n",
    "             num = i*j \n",
    "             \n",
    "result.append(num)\n",
    "print (max(result))"
   ]
  },
  {
   "cell_type": "code",
   "execution_count": null,
   "metadata": {},
   "outputs": [
    {
     "name": "stdout",
     "output_type": "stream",
     "text": [
      "906609\n"
     ]
    }
   ],
   "source": [
    "num_list = []\n",
    "for i in range(300,1001):\n",
    "    for j in range(300,1001):\n",
    "        num = i * j\n",
    "        num_string = str(num)\n",
    "        if num_string[:3] == num_string[:2:-1]:\n",
    "            # print(num)\n",
    "            num_list.append(num)\n",
    "num_list.sort()\n",
    "\n",
    "print(num_list[-1])"
   ]
  },
  {
   "cell_type": "code",
   "execution_count": null,
   "metadata": {},
   "outputs": [
    {
     "name": "stdout",
     "output_type": "stream",
     "text": [
      "232792560\n",
      "[1, 2, 3, 4, 5, 6, 7, 8, 9, 10, 11, 12, 13, 14, 15, 16, 17, 18, 19, 20]\n"
     ]
    }
   ],
   "source": [
    "# 22.06.17 (금) problem5 ★★★★☆\n",
    "# 1 ~ 10 사이의 어떤 수로도 나누어 떨어지는 가장 작은 수는 2520입니다.\n",
    "# 그러면 1 ~ 20 사이의 어떤 수로도 나누어 떨어지는 가장 작은 수는 얼마입니까?\n",
    "\n",
    "# 2521 부터고 \n",
    "# 나누어 떨어지는 가장 작은 수는 짝수임\n",
    "# 왜냐면 홀수는 2로 안 나눠지므로 홀수는 제외이므로. \n",
    "# +2씩 갈거임\n",
    "\n",
    "# 구쌤 소스.\n",
    "a = 20\n",
    "b = []\n",
    "while True:\n",
    "    for num in range(1,21):\n",
    "        if a%num == 0:\n",
    "            b.append(num)\n",
    "            #print (b)\n",
    "    if len(b) == 20:\n",
    "        print (a)\n",
    "        print (b)\n",
    "        break\n",
    "    else :\n",
    "        a += 20\n",
    "        #print(a)\n",
    "        b = []\n"
   ]
  },
  {
   "cell_type": "code",
   "execution_count": null,
   "metadata": {},
   "outputs": [
    {
     "name": "stdout",
     "output_type": "stream",
     "text": [
      "25164150\n"
     ]
    }
   ],
   "source": [
    "# 22.06.18 (토) problem6 ★★☆☆☆\n",
    "# 1부터 100까지 \"제곱의 합\"과 \"합의 제곱\"의 차는?\n",
    "# 1부터 10까지 자연수를 각각 제곱해 더하면 다음과 같습니다 (제곱의 합).\n",
    "# 12 + 22 + ... + 102 = 385\n",
    "# 1부터 10을 먼저 더한 다음에 그 결과를 제곱하면 다음과 같습니다 (합의 제곱).\n",
    "# (1 + 2 + ... + 10)2 = 552 = 3025\n",
    "# 따라서 1부터 10까지 자연수에 대해 \"합의 제곱\"과 \"제곱의 합\" 의 차이는 3025 - 385 = 2640 이 됩니다.\n",
    "# 그러면 1부터 100까지 자연수에 대해 \"합의 제곱\"과 \"제곱의 합\"의 차이는 얼마입니까?\n",
    "\n",
    "# answer_problem_first_try\n",
    "total_a = 0\n",
    "total_b = 0\n",
    "for i in range(1,101):\n",
    "    total_a = total_a + i**2\n",
    "    total_b = total_b + i\n",
    "print(total_b**2-total_a)\n",
    "\n",
    "# answer_problem_using_def\n",
    "# 제곱의 합 : the sum of squares\n",
    "# 합의 제곱 : the square of the sum\n",
    "# abs() : 절대값\n",
    "def get_sum_of_sq(): \n",
    "    total = 0\n",
    "    for i in range(1,101):\n",
    "        total = total + i**2\n",
    "    return total\n",
    "def get_sq_of_sum():\n",
    "    total = 0\n",
    "    for i in range(1,101):\n",
    "        total = total + i\n",
    "    return total**2\n",
    "print(abs(get_sum_of_sq()-get_sq_of_sum()))\n",
    "\n"
   ]
  },
  {
   "cell_type": "code",
   "execution_count": null,
   "metadata": {},
   "outputs": [
    {
     "ename": "NameError",
     "evalue": "name 'i' is not defined",
     "output_type": "error",
     "traceback": [
      "\u001b[1;31m---------------------------------------------------------------------------\u001b[0m",
      "\u001b[1;31mNameError\u001b[0m                                 Traceback (most recent call last)",
      "\u001b[1;32mc:\\Users\\4028\\Documents\\python\\lesson1\\euler.ipynb Cell 1'\u001b[0m in \u001b[0;36m<cell line: 11>\u001b[1;34m()\u001b[0m\n\u001b[0;32m      <a href='vscode-notebook-cell:/c%3A/Users/4028/Documents/python/lesson1/euler.ipynb#ch0000000?line=8'>9</a>\u001b[0m             \u001b[39mreturn\u001b[39;00m \u001b[39m0\u001b[39m \n\u001b[0;32m     <a href='vscode-notebook-cell:/c%3A/Users/4028/Documents/python/lesson1/euler.ipynb#ch0000000?line=10'>11</a>\u001b[0m \u001b[39mwhile\u001b[39;00m \u001b[39mTrue\u001b[39;00m:\n\u001b[1;32m---> <a href='vscode-notebook-cell:/c%3A/Users/4028/Documents/python/lesson1/euler.ipynb#ch0000000?line=11'>12</a>\u001b[0m        i \u001b[39m+\u001b[39m\u001b[39m=\u001b[39m \u001b[39m1\u001b[39m\n\u001b[0;32m     <a href='vscode-notebook-cell:/c%3A/Users/4028/Documents/python/lesson1/euler.ipynb#ch0000000?line=12'>13</a>\u001b[0m        count \u001b[39m=\u001b[39m \u001b[39m0\u001b[39m\n\u001b[0;32m     <a href='vscode-notebook-cell:/c%3A/Users/4028/Documents/python/lesson1/euler.ipynb#ch0000000?line=13'>14</a>\u001b[0m        \u001b[39mfor\u001b[39;00m j \u001b[39min\u001b[39;00m \u001b[39mrange\u001b[39m(\u001b[39m1\u001b[39m,\u001b[39m10001\u001b[39m):\n",
      "\u001b[1;31mNameError\u001b[0m: name 'i' is not defined"
     ]
    }
   ],
   "source": [
    "# 22.06.19 (일) problem7 ★★★☆☆\n",
    "# 10001번째의 소수 \n",
    "# 소수를 크기 순으로 나열하면 2, 3, 5, 7, 11, 13, ... 과 같이 됩니다.\n",
    "# 이 때 10,001번째의 소수를 구하세요.\n",
    "\n",
    "\n",
    "def decimal(nth):\n",
    "    for i in range(2,nth):\n",
    "        if nth % i == 0:\n",
    "            return 0 \n",
    "\n",
    "\n",
    "i += 1\n",
    "count = 0\n",
    "for j in range(1,10001):\n",
    "    if j % i == 0:\n",
    "        count += 1\n",
    "    elif count == 10:\n",
    "            print(i)\n",
    "            break\n",
    "\n",
    "# 푸는 중.. "
   ]
  },
  {
   "cell_type": "code",
   "execution_count": null,
   "metadata": {},
   "outputs": [
    {
     "name": "stdout",
     "output_type": "stream",
     "text": [
      "23514624000\n"
     ]
    }
   ],
   "source": [
    "# 22.06.２０ (월) problem８ ★★★★☆\n",
    "# 1000자리 수 안에서 연속된 13개 숫자 곱의 최댓값 \n",
    "# 다음은 연속된 1000자리 수입니다 (읽기 좋게 50자리씩 잘라 놓음).\n",
    "# # 여기서 붉게 표시된 71112의 경우 연속한 5개 숫자 7, 1, 1, 1, 2를 모두 곱하면 14입니다.\n",
    "# 또, 그 다음 연속한 5개 숫자 11121의 경우 1, 1, 1, 2, 1을 모두 곱하면 2입니다.\n",
    "# 이런 식으로 맨 처음 (7 × 3 × 1 × 6 × 7 = 882) 부터 맨 끝 (6 × 3 × 4 × 5 × 0 = 0) 까지 연속한 5개 숫자의 곱을 구할 수 있습니다.\n",
    "# 이렇게 구할 수 있는 연속한 5개 숫자의 곱 중에서 가장 큰 값은 40824 입니다.\n",
    "# 연속한 4개 숫자의 곱 중에서 가장 큰 값은 파랗게 표시된 9 × 9 × 8 × 9 = 5832 입니다.\n",
    "# 위의 1000자리 수에서 연속한 13개 숫자의 곱이 가장 큰 값은 얼마입니까?\n",
    "\n",
    "\n",
    "number = '''73167176531330624919225119674426574742355349194934\n",
    "96983520312774506326239578318016984801869478851843\n",
    "85861560789112949495459501737958331952853208805511\n",
    "12540698747158523863050715693290963295227443043557\n",
    "66896648950445244523161731856403098711121722383113\n",
    "62229893423380308135336276614282806444486645238749\n",
    "30358907296290491560440772390713810515859307960866\n",
    "70172427121883998797908792274921901699720888093776\n",
    "65727333001053367881220235421809751254540594752243\n",
    "52584907711670556013604839586446706324415722155397\n",
    "53697817977846174064955149290862569321978468622482\n",
    "83972241375657056057490261407972968652414535100474\n",
    "82166370484403199890008895243450658541227588666881\n",
    "16427171479924442928230863465674813919123162824586\n",
    "17866458359124566529476545682848912883142607690042\n",
    "24219022671055626321111109370544217506941658960408\n",
    "07198403850962455444362981230987879927244284909188\n",
    "84580156166097919133875499200524063689912560717606\n",
    "05886116467109405077541002256983155200055935729725\n",
    "71636269561882670428252483600823257530420752963450'''\n",
    "## ''' ... ''' 작은따옴표 3개\n",
    "\n",
    "greatest_product = 0\n",
    "numstring = number.strip().replace('\\n', '')\n",
    "## strip 함수 : 문자열 양 끝에 있는 공백제거\n",
    "## replace 함수 : 숫자들 줄내림 시 \\n을 ''로 바꿔줌\n",
    "\n",
    "\n",
    "for i in range(len(numstring)):\n",
    "    product = 1\n",
    "    # 13개 숫자. 문자열\n",
    "    substring = numstring[i:i+13]  \n",
    "    for digit in substring:\n",
    "        # 정수로 바꿔주고 서로 곱해주기. 곱셈이므로 순서 상관없음\n",
    "        product = product*int(digit)  \n",
    "     # max값 구하는 방법의 또다른 표현임\n",
    "    if product > greatest_product:  \n",
    "        greatest_product = product\n",
    "\n",
    "print(greatest_product)\n",
    "\n"
   ]
  },
  {
   "cell_type": "code",
   "execution_count": null,
   "metadata": {},
   "outputs": [
    {
     "name": "stdout",
     "output_type": "stream",
     "text": [
      "200 375 425\n",
      "31875000\n"
     ]
    }
   ],
   "source": [
    "# 22.06.２1 (화) problem9 ★★★☆☆\n",
    "# a + b + c = 1000 이 되는 피타고라스 수\n",
    "# 세 자연수 a, b, c 가 피타고라스 정리 a2 + b2 = c2 를 만족하면 피타고라스 수라고 부릅니다 (여기서 a < b < c ).\n",
    "# 예를 들면 3**2 + 4**2 = 9 + 16 = 25 = 5**2이므로 3, 4, 5는 피타고라스 수입니다.\n",
    "# a + b + c = 1000 인 피타고라스 수 a, b, c는 한 가지 뿐입니다. 이 때, a × b × c 는 얼마입니까?\n",
    "# 답 \n",
    "- print([a*b*(1000-a-b) for a in range(1, 1000) for b in range(a+1, 1000)  if a*a+b*b==(1000-a-b)**2])\n",
    "\n",
    "# a = int()\n",
    "# b = int()\n",
    "# a + b + c == 1000\n",
    "# c = 1000-a-b = 1000-(a+b)\n",
    "# c**2 == (1000-a-b)**2 == a**2 + b**2 \n",
    "# a**2 + 2*a*b + b**2 == (a+b)**2\n",
    "# (a+b)**2 - 2*a*b == (1000-a-b)**2\n",
    "# a < b < c\n",
    "# a*b*c = ?\n",
    "\n",
    "# a < b 이므로 a, b range 설정 아래와 같음 \n",
    "for b in range (1,1000):\n",
    "    for a in range (1,b):\n",
    "        if (1000-a-b)**2 == a**2 + b**2 : \n",
    "            print (a,b,1000-a-b)\n",
    "            print (a*b*(1000-a-b))\n",
    "            break\n"
   ]
  },
  {
   "cell_type": "code",
   "execution_count": null,
   "metadata": {},
   "outputs": [
    {
     "name": "stdout",
     "output_type": "stream",
     "text": [
      "[31875000]\n"
     ]
    }
   ],
   "source": []
  },
  {
   "cell_type": "code",
   "execution_count": null,
   "metadata": {},
   "outputs": [
    {
     "name": "stdout",
     "output_type": "stream",
     "text": [
      "142913828922\n"
     ]
    }
   ],
   "source": [
    "# 22.06.２2 (수) problem10 ★★★★☆\n",
    "# 이백만 이하 소수의 합\n",
    "# 10 이하의 소수를 모두 더하면 2 + 3 + 5 + 7 = 17 이 됩니다.\n",
    "# 이백만(2,000,000) 이하 소수의 합은 얼마입니까?\n",
    "\n",
    "\n",
    "# n= [3,2000000]\n",
    "# for i in range (3,2000000): \n",
    "#     if n % i ==0:\n",
    "#         sum=sum+i\n",
    "# print(sum)\n",
    "\n",
    "# import time\n",
    "# sum = 2\n",
    "# start = time.time()\n",
    "# for number in range(3,2000000):\n",
    "#     prime = True\n",
    "#     for x in range (2,number):\n",
    "#         if number % x ==0:\n",
    "#             prime =False\n",
    "#     if prime:\n",
    "#         sum = sum + number\n",
    "# print (sum)\n",
    "\n",
    "\n",
    "# The sum of the primes below 10 is 2 + 3 + 5 + 7 = 17.\n",
    "# Find the sum of all the primes below two million.\n",
    "# returns True if parameter n is a prime number, \n",
    "# False if composite and \"Neither prime, nor composite\" if neither\n",
    "\n",
    "def isPrime(n):\n",
    "    if n<2: \n",
    "        return \"Neither prime, nor composite\"\n",
    "    # 약수는 짝꿍이루므로 중간값까지 구하기. 루트 씌운 값이 중간값이 됨. \n",
    "    for i in range(2, int(n**0.5)+1):\n",
    "        if n % i == 0:\n",
    "            return False\n",
    "    return True\n",
    "\n",
    "sum = 0\n",
    "for i in range(2,2000000):\n",
    "    if isPrime(i):\n",
    "        sum += i\n",
    "\n",
    "print(sum)\n",
    "        \n",
    "\n"
   ]
  },
  {
   "cell_type": "code",
   "execution_count": 5,
   "metadata": {},
   "outputs": [
    {
     "name": "stdout",
     "output_type": "stream",
     "text": [
      "104743\n"
     ]
    }
   ],
   "source": [
    "#에라토스 테네스의 체 problem7\n",
    "def prime_list(n):\n",
    "    # 에라토스테네스의 체 초기화: n개 요소에 True 설정(소수로 간주)\n",
    "    sieve = [True] * n\n",
    "\n",
    "    # n의 최대 약수가 sqrt(n) 이하이므로 i=sqrt(n)까지 검사\n",
    "    m = int(n ** 0.5)\n",
    "    for i in range(2, m + 1):\n",
    "        if sieve[i] == True:           # i가 소수인 경우\n",
    "            for j in range(i+i, n, i): # i이후 i의 배수들을 False 판정\n",
    "                sieve[j] = False\n",
    "\n",
    "    # 소수 목록 산출\n",
    "    return [i for i in range(2, n) if sieve[i] == True]\n",
    "a = prime_list(1000001)\n",
    "\n",
    "if len(a) > 10002:\n",
    "    print(a[10000])\n",
    "# print(prime_list(10002))"
   ]
  },
  {
   "cell_type": "code",
   "execution_count": 4,
   "metadata": {},
   "outputs": [
    {
     "ename": "ValueError",
     "evalue": "invalid literal for int() with base 10: '08 02 22 97 38 15 00 40 00 75 04 05 07 78 52 12 50 77 91 08\\n49 49 99 40 17 81 18 57 60 87 17 40 98 43 69 48 04 56 62 00\\n81 49 31 73 55 79 14 29 93 71 40 67 53 88 30 03 49 13 36 65\\n52 70 95 23 04 6",
     "output_type": "error",
     "traceback": [
      "\u001b[1;31m---------------------------------------------------------------------------\u001b[0m",
      "\u001b[1;31mValueError\u001b[0m                                Traceback (most recent call last)",
      "\u001b[1;32mc:\\Users\\4028\\Documents\\python\\lesson1\\euler.ipynb Cell 2'\u001b[0m in \u001b[0;36m<cell line: 28>\u001b[1;34m()\u001b[0m\n\u001b[0;32m      <a href='vscode-notebook-cell:/c%3A/Users/4028/Documents/python/lesson1/euler.ipynb#ch0000001?line=0'>1</a>\u001b[0m \u001b[39m# 22.06.25 (토) problem11 ★★★★★\u001b[39;00m\n\u001b[0;32m      <a href='vscode-notebook-cell:/c%3A/Users/4028/Documents/python/lesson1/euler.ipynb#ch0000001?line=1'>2</a>\u001b[0m \u001b[39m# 20×20 격자에서 연속된 네 수의 곱 중 최댓값\u001b[39;00m\n\u001b[0;32m      <a href='vscode-notebook-cell:/c%3A/Users/4028/Documents/python/lesson1/euler.ipynb#ch0000001?line=2'>3</a>\u001b[0m \u001b[39m# 아래와 같은 20×20 격자가 있습니다.\u001b[39;00m\n\u001b[0;32m      <a href='vscode-notebook-cell:/c%3A/Users/4028/Documents/python/lesson1/euler.ipynb#ch0000001?line=3'>4</a>\u001b[0m \u001b[39m# 위에서 대각선 방향으로 연속된 붉은 수 네 개의 곱은 26 × 63 × 78 × 14 = 1788696 입니다.\u001b[39;00m\n\u001b[0;32m      <a href='vscode-notebook-cell:/c%3A/Users/4028/Documents/python/lesson1/euler.ipynb#ch0000001?line=4'>5</a>\u001b[0m \u001b[39m# 그러면 수평, 수직, 또는 대각선 방향으로 연속된 수 네 개의 곱 중 최댓값은 얼마입니까?\u001b[39;00m\n\u001b[0;32m      <a href='vscode-notebook-cell:/c%3A/Users/4028/Documents/python/lesson1/euler.ipynb#ch0000001?line=6'>7</a>\u001b[0m number \u001b[39m=\u001b[39m \u001b[39m'''\u001b[39m\u001b[39m08 02 22 97 38 15 00 40 00 75 04 05 07 78 52 12 50 77 91 08\u001b[39m\n\u001b[0;32m      <a href='vscode-notebook-cell:/c%3A/Users/4028/Documents/python/lesson1/euler.ipynb#ch0000001?line=7'>8</a>\u001b[0m \u001b[39m49 49 99 40 17 81 18 57 60 87 17 40 98 43 69 48 04 56 62 00\u001b[39m\n\u001b[0;32m      <a href='vscode-notebook-cell:/c%3A/Users/4028/Documents/python/lesson1/euler.ipynb#ch0000001?line=8'>9</a>\u001b[0m \u001b[39m81 49 31 73 55 79 14 29 93 71 40 67 53 88 30 03 49 13 36 65\u001b[39m\n\u001b[1;32m   (...)\u001b[0m\n\u001b[0;32m     <a href='vscode-notebook-cell:/c%3A/Users/4028/Documents/python/lesson1/euler.ipynb#ch0000001?line=24'>25</a>\u001b[0m \u001b[39m20 73 35 29 78 31 90 01 74 31 49 71 48 86 81 16 23 57 05 54\u001b[39m\n\u001b[0;32m     <a href='vscode-notebook-cell:/c%3A/Users/4028/Documents/python/lesson1/euler.ipynb#ch0000001?line=25'>26</a>\u001b[0m \u001b[39m01 70 54 71 83 51 54 69 16 92 33 48 61 43 52 01 89 19 67 48\u001b[39m\u001b[39m'''\u001b[39m\n\u001b[1;32m---> <a href='vscode-notebook-cell:/c%3A/Users/4028/Documents/python/lesson1/euler.ipynb#ch0000001?line=27'>28</a>\u001b[0m data \u001b[39m=\u001b[39m \u001b[39mlist\u001b[39m(\u001b[39mmap\u001b[39m(\u001b[39mint\u001b[39;49m(number),number\u001b[39m.\u001b[39msplit(\u001b[39m'\u001b[39m\u001b[39m \u001b[39m\u001b[39m'\u001b[39m)))\n\u001b[0;32m     <a href='vscode-notebook-cell:/c%3A/Users/4028/Documents/python/lesson1/euler.ipynb#ch0000001?line=28'>29</a>\u001b[0m start \u001b[39m=\u001b[39m \u001b[39m0\u001b[39m\n\u001b[0;32m     <a href='vscode-notebook-cell:/c%3A/Users/4028/Documents/python/lesson1/euler.ipynb#ch0000001?line=29'>30</a>\u001b[0m method \u001b[39m=\u001b[39m \u001b[39m'\u001b[39m\u001b[39m'\u001b[39m\n",
      "\u001b[1;31mValueError\u001b[0m: invalid literal for int() with base 10: '08 02 22 97 38 15 00 40 00 75 04 05 07 78 52 12 50 77 91 08\\n49 49 99 40 17 81 18 57 60 87 17 40 98 43 69 48 04 56 62 00\\n81 49 31 73 55 79 14 29 93 71 40 67 53 88 30 03 49 13 36 65\\n52 70 95 23 04 6"
     ]
    }
   ],
   "source": [
    "# 22.06.25 (토) problem11 ★★★★★\n",
    "# 20×20 격자에서 연속된 네 수의 곱 중 최댓값\n",
    "# 아래와 같은 20×20 격자가 있습니다.\n",
    "# 위에서 대각선 방향으로 연속된 붉은 수 네 개의 곱은 26 × 63 × 78 × 14 = 1788696 입니다.\n",
    "# 그러면 수평, 수직, 또는 대각선 방향으로 연속된 수 네 개의 곱 중 최댓값은 얼마입니까?\n",
    "\n",
    "number = '''08 02 22 97 38 15 00 40 00 75 04 05 07 78 52 12 50 77 91 08\n",
    "49 49 99 40 17 81 18 57 60 87 17 40 98 43 69 48 04 56 62 00\n",
    "81 49 31 73 55 79 14 29 93 71 40 67 53 88 30 03 49 13 36 65\n",
    "52 70 95 23 04 60 11 42 69 24 68 56 01 32 56 71 37 02 36 91\n",
    "22 31 16 71 51 67 63 89 41 92 36 54 22 40 40 28 66 33 13 80\n",
    "24 47 32 60 99 03 45 02 44 75 33 53 78 36 84 20 35 17 12 50\n",
    "32 98 81 28 64 23 67 10 26 38 40 67 59 54 70 66 18 38 64 70\n",
    "67 26 20 68 02 62 12 20 95 63 94 39 63 08 40 91 66 49 94 21\n",
    "24 55 58 05 66 73 99 26 97 17 78 78 96 83 14 88 34 89 63 72\n",
    "21 36 23 09 75 00 76 44 20 45 35 14 00 61 33 97 34 31 33 95\n",
    "78 17 53 28 22 75 31 67 15 94 03 80 04 62 16 14 09 53 56 92\n",
    "16 39 05 42 96 35 31 47 55 58 88 24 00 17 54 24 36 29 85 57\n",
    "86 56 00 48 35 71 89 07 05 44 44 37 44 60 21 58 51 54 17 58\n",
    "19 80 81 68 05 94 47 69 28 73 92 13 86 52 17 77 04 89 55 40\n",
    "04 52 08 83 97 35 99 16 07 97 57 32 16 26 26 79 33 27 98 66\n",
    "88 36 68 87 57 62 20 72 03 46 33 67 46 55 12 32 63 93 53 69\n",
    "04 42 16 73 38 25 39 11 24 94 72 18 08 46 29 32 40 62 76 36\n",
    "20 69 36 41 72 30 23 88 34 62 99 69 82 67 59 85 74 04 36 16\n",
    "20 73 35 29 78 31 90 01 74 31 49 71 48 86 81 16 23 57 05 54\n",
    "01 70 54 71 83 51 54 69 16 92 33 48 61 43 52 01 89 19 67 48'''\n",
    "\n",
    "data = list(map(int(number),number.split(' ')))\n",
    "start = 0\n",
    "method = ''\n",
    "result = 0\n",
    "for i in range(len(data)):\n",
    "    if i < (len(data)-60): # Vertical\n",
    "        if data[i] * data[i + 20] * data[i + 40] * data[i + 60] > result:\n",
    "            result = data[i]*data[i + 10]*data[i + 20]*data[i + 30]\n",
    "            start = data[i]\n",
    "            method = 'Vertical'\n",
    "    if i % 20 < 17: # Horizontal\n",
    "        if data[i] * data[i + 1] * data[i + 2] * data[i + 3] > result:\n",
    "            result = data[i] * data[i + 1] * data[i + 2] * data[i + 3]\n",
    "            start = data[i]\n",
    "            method = 'Horizontal'\n",
    "    if i % 20 < 17 and i <= 336: # diagonal right\n",
    "        if data[i] * data[i + 21] * data[i + 42] * data[i + 63] > result:\n",
    "            result = data[i] * data[i + 21] * data[i + 42] * data[i + 63]\n",
    "            start = data[i]\n",
    "            method = 'Diagonal right'\n",
    "    if i % 20 > 2 and i <= 339:\n",
    "        if data[i] * data[i + 19] * data[i + 38] * data[i + 57] > result:\n",
    "            result = data[i] * data[i + 19] * data[i + 38] * data[i + 57]\n",
    "            start = data[i]\n",
    "            method = 'Diagonal left'\n",
    "    print([result,start,method])\n",
    "    \n",
    "\n",
    "\n"
   ]
  },
  {
   "cell_type": "code",
   "execution_count": 5,
   "metadata": {},
   "outputs": [],
   "source": [
    "# 22.06.26 (일) problem12 ★★★★★\n",
    "# 1부터 n까지의 자연수를 차례로 더하여 구해진 값을 삼각수라고 합니다.\n",
    "# 예를 들어 7번째 삼각수는 1 + 2 + 3 + 4 + 5 + 6 + 7 = 28이 됩니다.\n",
    "# 이런 식으로 삼각수를 구해 나가면 다음과 같습니다.\n",
    "\n",
    "# 1, 3, 6, 10, 15, 21, 28, 36, 45, 55, ...\n",
    "# 이 삼각수들의 약수를 구해 봅시다.\n",
    "\n",
    "#  1: 1\n",
    "#  3: 1, 3\n",
    "#  6: 1, 2, 3, 6\n",
    "# 10: 1, 2, 5, 10\n",
    "# 15: 1, 3, 5, 15\n",
    "# 21: 1, 3, 7, 21\n",
    "# 28: 1, 2, 4, 7, 14, 28\n",
    "# 위에서 보듯이, 5개 이상의 약수를 갖는 첫번째 삼각수는 28입니다.\n",
    "\n",
    "# 그러면 500개 이상의 약수를 갖는 가장 작은 삼각수는 얼마입니까?\n",
    "\n",
    "# 삼각수 n\n",
    "# n = input(\"Enter number: \")\n",
    "# def genfact(n):\n",
    "#     t = []\n",
    "#     for i in range(1, n+1):\n",
    "#         if n%i == 0:  # n을 i로 나누었을 떄 0인 i값 = 약수 을 t에 담는 함수 genfact 즉 약수인 수 담는 함수\n",
    "#             t.append(i)\n",
    "#     return t\n",
    "\n",
    "# print (\"Numbers of divisors: \", len(genfact(n)))\n",
    "# print\n",
    "\n",
    "# m = input(\"Enter the number of triangle numbers to check: \")\n",
    "# print\n",
    "# for i in range (2, m+2):   \n",
    "#     a = sum(range(i))     # i를 .. \n",
    "#     b = len(genfact(a))  # b= 약수의 개수 \n",
    "#     if b > 500:\n",
    "#         print (a)\n",
    "\n",
    "\n",
    "# n을 i로 나누었을 떄 0인 i값 = 약수 을 t에 담는 함수 genfact 즉 약수인 수 담는 함수\n",
    "\n",
    "# n = 0\n",
    "# def divisor(n):\n",
    "#     t=[]\n",
    "#     for i in range(1, n+1):\n",
    "#         if n % i == 0:\n",
    "#             t.append(i)\n",
    "#     return t\n",
    "\n",
    "# m=input()\n",
    "# for i in range(2, m+2):\n",
    "#     sum = sum + i\n",
    "#     a = len(divisor(sum))\n",
    "#     if a < 500:\n",
    "#         print (sum)\n",
    "\n",
    "\n",
    "# break\n",
    "\n",
    "\n",
    "\n"
   ]
  },
  {
   "cell_type": "markdown",
   "metadata": {},
   "source": []
  },
  {
   "cell_type": "markdown",
   "metadata": {},
   "source": []
  }
 ],
 "metadata": {
  "kernelspec": {
   "display_name": "Python 3.10.4 64-bit",
   "language": "python",
   "name": "python3"
  },
  "language_info": {
   "codemirror_mode": {
    "name": "ipython",
    "version": 3
   },
   "file_extension": ".py",
   "mimetype": "text/x-python",
   "name": "python",
   "nbconvert_exporter": "python",
   "pygments_lexer": "ipython3",
   "version": "3.10.4"
  },
  "orig_nbformat": 4,
  "vscode": {
   "interpreter": {
    "hash": "7b0a31e8b1db3e4addfbbbd5164a7cac4aa070b2d40afb83cb42ea886b16ecec"
   }
  }
 },
 "nbformat": 4,
 "nbformat_minor": 2
}
