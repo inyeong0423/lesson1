{
 "cells": [
  {
   "cell_type": "code",
   "execution_count": 2,
   "metadata": {},
   "outputs": [
    {
     "name": "stdout",
     "output_type": "stream",
     "text": [
      "233168\n"
     ]
    }
   ],
   "source": [
    " # 22.06.10 (금)\n",
    " # 10보다 작은 자연수 중에서 3 또는 5의 배수는 3, 5, 6, 9 이고, 이것을 모두 더하면 23입니다.\n",
    " # 1000보다 작은 자연수 중에서 3 또는 5의 배수를 모두 더하면 얼마일까요?\n",
    " # for문 실습\n",
    "  \n",
    "sum = 0\n",
    "for i in range (1,1000) : \n",
    "        if i%3 == 0 or i%5 == 0:\n",
    "            sum = sum+i\n",
    "print(sum)\n",
    "    #답 : 233168\n",
    "    # 왜 마지막 값만 안나오고 다나오지....?????\n"
   ]
  },
  {
   "cell_type": "code",
   "execution_count": 17,
   "metadata": {},
   "outputs": [
    {
     "name": "stdout",
     "output_type": "stream",
     "text": [
      "3\n",
      "8\n",
      "16\n",
      "29\n",
      "50\n",
      "84\n",
      "139\n",
      "228\n",
      "372\n",
      "605\n",
      "982\n"
     ]
    }
   ],
   "source": [
    "    # 22.06.11 (토) \n",
    "# 피보나치(Fibonacci) 수열의 각 항은 바로 앞의 항 두 개를 더한 것입니다. \n",
    "# 1과 2로 시작하는 경우 이 수열은 아래와 같습니다.\n",
    "# 1, 2, 3, 5, 8, 13, 21, 34, 55, 89, ...\n",
    "# 4백만 이하의 짝수 값을 갖는 모든 피보나치 항을 더하면 얼마가 됩니까?\n",
    "    \n",
    "a = 1\n",
    "b = 2\n",
    "c= a+b\n",
    "sum = 0\n",
    "   \n",
    "while (c <= 400):\n",
    "        if c%2 == 0:\n",
    "        sum = sum + c\n",
    "        a=b\n",
    "        b=c\n",
    "        c=a+b\n",
    "        print(sum)"
   ]
  },
  {
   "cell_type": "code",
   "execution_count": 38,
   "metadata": {},
   "outputs": [
    {
     "name": "stdout",
     "output_type": "stream",
     "text": [
      "4613732\n"
     ]
    }
   ],
   "source": [
    "    # 22.06.11 (토) \n",
    "# 피보나치(Fibonacci) 수열의 각 항은 바로 앞의 항 두 개를 더한 것입니다. \n",
    "# 1과 2로 시작하는 경우 이 수열은 아래와 같습니다.\n",
    "# 1, 2, 3, 5, 8, 13, 21, 34, 55, 89, ...\n",
    "# 4백만 이하의 짝수 값을 갖는 모든 피보나치 항을 더하면 얼마가 됩니까?\n",
    "\n",
    "\n",
    "a1 = 1\n",
    "a2 = 2\n",
    "nth = a1 + a2\n",
    "answer_sheet_list = []\n",
    "answer_sheet_list.append(a2)\n",
    "count = 4000000\n",
    "while nth < count:\n",
    "        a1 = a2\n",
    "        a2 = nth\n",
    "        nth = a1 + a2\n",
    "        if nth %2 == 0:\n",
    "            answer_sheet_list.append(nth)\n",
    "answer = 0\n",
    "for i in answer_sheet_list:\n",
    "        if i <= count:\n",
    "                answer += i\n",
    "print(answer)"
   ]
  },
  {
   "cell_type": "code",
   "execution_count": 13,
   "metadata": {},
   "outputs": [
    {
     "name": "stdout",
     "output_type": "stream",
     "text": [
      "4613732\n"
     ]
    }
   ],
   "source": [
    "a1 = 1\n",
    "a2 = 2\n",
    "nth = a1 + a2\n",
    "answer_sheet_list = []\n",
    "answer_sheet_list.append(a2)\n",
    "while nth < 4000000 :\n",
    "        a1 = a2\n",
    "        a2 = nth\n",
    "        nth = a1 + a2\n",
    "        if nth %2 == 0:\n",
    "            answer_sheet_list.append(nth)\n",
    "answer=0\n",
    "for i in answer_sheet_list :\n",
    "    if i <= 4000000:\n",
    "        answer += i\n",
    "print(answer)\n",
    "\n",
    "\n",
    "\n",
    "\n",
    "\n"
   ]
  },
  {
   "cell_type": "code",
   "execution_count": 11,
   "metadata": {},
   "outputs": [
    {
     "name": "stdout",
     "output_type": "stream",
     "text": [
      "6857\n"
     ]
    }
   ],
   "source": [
    "# 22.06.15 (수) \n",
    "# 어떤 수를 소수의 곱으로만 나타내는 것을 소인수분해라 하고, 이 소수들을 그 수의 소인수라고 합니다.\n",
    "# 예를 들면 13195의 소인수는 5, 7, 13, 29 입니다.\n",
    "\n",
    "# 600851475143의 소인수 중에서 가장 큰 수를 구하세요.\n",
    "\n",
    "num = 600851475143\n",
    "p_n = 2\n",
    "\n",
    "while p_n < num :\n",
    "    if num % p_n == 0 :\n",
    "        num = num / p_n\n",
    "    else :\n",
    "\n",
    "        p_n = p_n + 1\n",
    "# print(num)\n",
    "print(int(num))\n",
    "\n",
    "\n"
   ]
  },
  {
   "cell_type": "code",
   "execution_count": 6,
   "metadata": {},
   "outputs": [
    {
     "name": "stdout",
     "output_type": "stream",
     "text": [
      "998001\n"
     ]
    }
   ],
   "source": [
    "# 22.06.16 (목) \n",
    "# 세자리 수를 곱해 만들 수 있는 가장 큰 대칭수\n",
    "# 앞에서부터 읽을 때나 뒤에서부터 읽을 때나 모양이 같은 수를 대칭수(palindrome)라고 부릅니다.\n",
    "# 두 자리 수를 곱해 만들 수 있는 대칭수 중 가장 큰 수는 9009 (= 91 × 99) 입니다.\n",
    "# 세 자리 수를 곱해 만들 수 있는 가장 큰 대칭수는 얼마입니까?\n",
    " \n",
    "result = []\n",
    "for i in range (100, 1000):\n",
    "       for j in range (100, 1000):\n",
    "             num = i*j \n",
    "             \n",
    "result.append(num)\n",
    "print (max(result))"
   ]
  },
  {
   "cell_type": "code",
   "execution_count": 70,
   "metadata": {},
   "outputs": [
    {
     "name": "stdout",
     "output_type": "stream",
     "text": [
      "906609\n"
     ]
    }
   ],
   "source": [
    "num_list = []\n",
    "for i in range(300,1001):\n",
    "    for j in range(300,1001):\n",
    "        num = i * j\n",
    "        num_string = str(num)\n",
    "        if num_string[:3] == num_string[:2:-1]:\n",
    "            # print(num)\n",
    "            num_list.append(num)\n",
    "num_list.sort()\n",
    "\n",
    "print(num_list[-1])"
   ]
  },
  {
   "cell_type": "code",
   "execution_count": 81,
   "metadata": {},
   "outputs": [
    {
     "name": "stdout",
     "output_type": "stream",
     "text": [
      "error\n"
     ]
    }
   ],
   "source": [
    "# 22.06.17 (금) \n",
    "# 1 ~ 10 사이의 어떤 수로도 나누어 떨어지는 가장 작은 수는 2520입니다.\n",
    "# 그러면 1 ~ 20 사이의 어떤 수로도 나누어 떨어지는 가장 작은 수는 얼마입니까?\n",
    "\n",
    "# 2521 부터고 \n",
    "# 나누어 떨어지는 가장 작은 수는 짝수임\n",
    "# 왜냐면 홀수는 2로 안 나눠지므로 홀수는 제외이므로. \n",
    "# +2씩 갈거임\n",
    "\n",
    "# 구선생님이 풀어줄거임.\n",
    "i = 0\n",
    "i_limit = 2521\n",
    "\n",
    "while True:\n",
    "       i += 1\n",
    "       count = 0\n",
    "       for j in range(1,11):\n",
    "              if i // j == 0:\n",
    "                  count += 1\n",
    "              elif count == 10:\n",
    "                     print(i)\n",
    "                     break\n",
    "\n",
    "       if i >= i_limit:\n",
    "              print(\"error\")\n",
    "              break\n"
   ]
  },
  {
   "cell_type": "code",
   "execution_count": 14,
   "metadata": {},
   "outputs": [
    {
     "name": "stdout",
     "output_type": "stream",
     "text": [
      "25164150\n",
      "25164150\n"
     ]
    }
   ],
   "source": [
    "# 22.06.18 (토) \n",
    "# 1부터 100까지 \"제곱의 합\"과 \"합의 제곱\"의 차는?\n",
    "# 1부터 10까지 자연수를 각각 제곱해 더하면 다음과 같습니다 (제곱의 합).\n",
    "# 12 + 22 + ... + 102 = 385\n",
    "# 1부터 10을 먼저 더한 다음에 그 결과를 제곱하면 다음과 같습니다 (합의 제곱).\n",
    "# (1 + 2 + ... + 10)2 = 552 = 3025\n",
    "# 따라서 1부터 10까지 자연수에 대해 \"합의 제곱\"과 \"제곱의 합\" 의 차이는 3025 - 385 = 2640 이 됩니다.\n",
    "# 그러면 1부터 100까지 자연수에 대해 \"합의 제곱\"과 \"제곱의 합\"의 차이는 얼마입니까?\n",
    "\n",
    "# answer_problem_first_try\n",
    "total_a = 0\n",
    "total_b = 0\n",
    "for i in range(1,101):\n",
    "    total_a = total_a + i**2\n",
    "    total_b = total_b + i\n",
    "print(total_b**2-total_a)\n",
    "\n",
    "# answer_problem_using_def\n",
    "# 제곱의 합 : the sum of squares\n",
    "# 합의 제곱 : the square of the sum\n",
    "# abs() : 절대값\n",
    "def get_sum_of_sq(): \n",
    "    total = 0\n",
    "    for i in range(1,101):\n",
    "        total = total + i**2\n",
    "    return total\n",
    "def get_sq_of_sum():\n",
    "    total = 0\n",
    "    for i in range(1,101):\n",
    "        total = total + i\n",
    "    return total**2\n",
    "print(abs(get_sum_of_sq()-get_sq_of_sum()))\n",
    "\n"
   ]
  }
 ],
 "metadata": {
  "kernelspec": {
   "display_name": "Python 3.10.4 64-bit",
   "language": "python",
   "name": "python3"
  },
  "language_info": {
   "codemirror_mode": {
    "name": "ipython",
    "version": 3
   },
   "file_extension": ".py",
   "mimetype": "text/x-python",
   "name": "python",
   "nbconvert_exporter": "python",
   "pygments_lexer": "ipython3",
   "version": "3.10.4"
  },
  "orig_nbformat": 4,
  "vscode": {
   "interpreter": {
    "hash": "7b0a31e8b1db3e4addfbbbd5164a7cac4aa070b2d40afb83cb42ea886b16ecec"
   }
  }
 },
 "nbformat": 4,
 "nbformat_minor": 2
}
