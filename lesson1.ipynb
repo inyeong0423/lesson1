{
 "cells": [
  {
   "cell_type": "code",
   "execution_count": 66,
   "metadata": {},
   "outputs": [
    {
     "name": "stdout",
     "output_type": "stream",
     "text": [
      "100000000\n"
     ]
    }
   ],
   "source": [
    "# Mr.Gu's coding \n",
    "init_data = {\n",
    "    \"date\" : \"2019-01-01\",\n",
    "    \"money\" : {\n",
    "        \"unit\" : \"won\",\n",
    "        \"value\" : 100000000\n",
    "    }\n",
    "}\n",
    "\n",
    "today_money_convert_ratio = 1.2\n",
    "def money_convert(money):\n",
    "    dollor = money * today_money_convert_ratio\n",
    "    return dollor\n",
    "# print(init_data)\n",
    "\n",
    "print(init_data['money']['value'])\n"
   ]
  },
  {
   "cell_type": "code",
   "execution_count": 67,
   "metadata": {},
   "outputs": [],
   "source": [
    "# Mr.Gu's coding \n",
    "init_data = {\n",
    "    \"initial_date\" : \"2019-01-01\",\n",
    "    \"money\" : {\n",
    "        \"unit\": \"won\",\n",
    "        \"amount\" : 10**8\n",
    "    }\n",
    "}\n",
    "\n",
    "ratio = 1.2\n",
    "def currency_convert(input_money,money_unit):\n",
    "    # To do implement\n",
    "    if money_unit == \"won\":\n",
    "        new_money = input_money * ratio\n",
    "    elif money_unit == \"dollor\" :\n",
    "        new_money = input_money / ratio\n",
    "    return new_money\n"
   ]
  },
  {
   "cell_type": "markdown",
   "metadata": {},
   "source": [
    "# Lesson 2"
   ]
  },
  {
   "cell_type": "code",
   "execution_count": 65,
   "metadata": {},
   "outputs": [
    {
     "name": "stdout",
     "output_type": "stream",
     "text": [
      "r*1.01\n"
     ]
    }
   ],
   "source": [
    "#연습1\n",
    "# Dictionary 만들기 \n",
    "# Dictionary 구성 \n",
    "# dic = { key : value, \n",
    "#     key1 : {\n",
    "#         key2 : value2,\n",
    "#         key3 : value3\n",
    "#     }\n",
    "#  }\n",
    "\n",
    "init_data = {\n",
    "    \"initial_date\" : \"2019-01-01\",\n",
    "    \"ratio\" : {\n",
    "        \"today_ratio_buy\" : \"r*1.01\",\n",
    "        \"today_ratio_sell\" : \"r\"\n",
    "    }, \n",
    "    \"money\" : {\n",
    "        \"unit\" : \"won\",\n",
    "        \"value\" : 10**8\n",
    "\n",
    "    }\n",
    "}\n",
    "#print(init_data['ratio'],['today_ratio_buy'])\n",
    "#{'today_ratio_buy': 'r*1.01', 'today_ratio_sell': 'r'} ['today_ratio_buy']\n",
    "print(init_data['ratio']['today_ratio_buy'])\n",
    "#r*1.01\n",
    "\n",
    "# 함수 선언하기 \n",
    "# 함수의 구성 \n",
    "\n",
    "# 환율\n",
    "# today_money_convert_ratio_sell = init_data['ratio']['today_ratio_sell']\n",
    "# today_money_convert_ratio_buy = init_data['ratio']['today_ratio_buy']\n",
    "# def money_ratio() :   # ()안에 input 으로 넣어서 변수 선언해주기\n",
    "#     dollar_sell = init_data['money']*today_money_convert_ratio_sell\n",
    "#     dollar_buy = init_data['money']*today_money_convert_ratio_buy\n",
    "#     return dollar_sell\n",
    "# print(money_ratio)"
   ]
  },
  {
   "cell_type": "markdown",
   "metadata": {},
   "source": [
    "# Lesson 3"
   ]
  },
  {
   "cell_type": "code",
   "execution_count": 56,
   "metadata": {},
   "outputs": [
    {
     "name": "stdout",
     "output_type": "stream",
     "text": [
      "11\n"
     ]
    }
   ],
   "source": [
    "#def 함수 연습\n",
    "def sum(a,b):\n",
    "    a = 3 \n",
    "    b = 8\n",
    "    c=a+b\n",
    "    return c\n",
    "print(sum('a','b'))\n"
   ]
  },
  {
   "cell_type": "code",
   "execution_count": 5,
   "metadata": {},
   "outputs": [
    {
     "name": "stdout",
     "output_type": "stream",
     "text": [
      "<bound method Time.__init__ of <__main__.Time object at 0x000001C73FDB4100>>\n"
     ]
    }
   ],
   "source": [
    "#class 만들기 ?!!????\n",
    "\n",
    "import datetime \n",
    "\n",
    "class Time:\n",
    "    def __init__(self):\n",
    "        self.timezone = '-5'\n",
    "        self.initial_date = datetime.datetime(2019,1,1)\n",
    "        self.timelist = {\n",
    "            \"pre_start\" : 3,\n",
    "            \"pre_end\" : 9.5,\n",
    "            \"main_start\" : 9.5,\n",
    "            \"main_end\" : 16,\n",
    "            \"post_start\" : 16,\n",
    "            \"post_end\" : 18\n",
    "        }\n",
    "        self.pre_market_start_time = self.initial_date + datetime.timedelta(0,self.sec2hour(self.timelist['pre_start']))\n",
    "        self.pre_market_end_time = self.initial_date + datetime.timedelta(0,self.sec2hour(self.timelist['pre_end']))\n",
    "        self.main_market_start_time = self.initial_date + datetime.timedelta(0,self.sec2hour(self.timelist['main_start']))\n",
    "        self.main_market_end_time = self.initial_date + datetime.timedelta(0,self.sec2hour(self.timelist['main_end']))\n",
    "        self.post_market_start_time = self.initial_date + datetime.timedelta(0,self.sec2hour(self.timelist['post_start']))\n",
    "        self.post_market_end_time = self.initial_date + datetime.timedelta(0,self.sec2hour(self.timelist['post_end']))\n",
    "        # print ( self.pre_market_start_time, self.pre_market_end_time, self.main_market_start_time, self.main_market_end_time, self.post_market_start_time, self.post_market_end_time)\n",
    "\n",
    "    def sec2hour(self, input):\n",
    "        output = input * 3600\n",
    "        return output\n",
    "\n",
    "a = Time()\n",
    "print(a.__init__)\n",
    "\n"
   ]
  }
 ],
 "metadata": {
  "interpreter": {
   "hash": "7b0a31e8b1db3e4addfbbbd5164a7cac4aa070b2d40afb83cb42ea886b16ecec"
  },
  "kernelspec": {
   "display_name": "Python 3.10.4 64-bit",
   "language": "python",
   "name": "python3"
  },
  "language_info": {
   "codemirror_mode": {
    "name": "ipython",
    "version": 3
   },
   "file_extension": ".py",
   "mimetype": "text/x-python",
   "name": "python",
   "nbconvert_exporter": "python",
   "pygments_lexer": "ipython3",
   "version": "3.10.4"
  },
  "orig_nbformat": 4
 },
 "nbformat": 4,
 "nbformat_minor": 2
}
