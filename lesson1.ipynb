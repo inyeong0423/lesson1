{
 "cells": [
  {
   "cell_type": "code",
   "execution_count": 8,
   "metadata": {},
   "outputs": [
    {
     "name": "stdout",
     "output_type": "stream",
     "text": [
      "100000000\n"
     ]
    }
   ],
   "source": [
    "init_data = {\n",
    "    \"date\" : \"2019-01-01\",\n",
    "    \"money\" : {\n",
    "        \"unit\" : \"won\",\n",
    "        \"value\" : 100000000\n",
    "    }\n",
    "}\n",
    "\n",
    "today_money_convert_ratio = 1.2\n",
    "def money_convert(money):\n",
    "    dollor = money * today_money_convert_ratio\n",
    "    return dollor\n",
    "\n",
    "# print(init_data)\n",
    "print(init_data['money']['value'])\n"
   ]
  },
  {
   "cell_type": "code",
   "execution_count": 15,
   "metadata": {},
   "outputs": [
    {
     "name": "stdout",
     "output_type": "stream",
     "text": [
      "700000000\n"
     ]
    }
   ],
   "source": [
    "init_data = {\n",
    "    \"initial_date\" : \"2019-01-01\",\n",
    "    \"money\" : {\n",
    "        \"unit\": \"won\",\n",
    "        \"amount\" : 10**8\n",
    "    }\n",
    "}\n",
    "\n",
    "ratio = 1.2\n",
    "def currency_convert(input_money,money_unit):\n",
    "    # To do implement\n",
    "    if money_unit == \"won\":\n",
    "        new_money = input_money * ratio\n",
    "    elif money_unit == \"dollor\" :\n",
    "        new_money = input_money / ratio\n",
    "    return new_money\n"
   ]
  },
  {
   "cell_type": "code",
   "execution_count": null,
   "metadata": {},
   "outputs": [],
   "source": []
  },
  {
   "cell_type": "code",
   "execution_count": null,
   "metadata": {},
   "outputs": [],
   "source": []
  }
 ],
 "metadata": {
  "interpreter": {
   "hash": "7b0a31e8b1db3e4addfbbbd5164a7cac4aa070b2d40afb83cb42ea886b16ecec"
  },
  "kernelspec": {
   "display_name": "Python 3.10.4 64-bit",
   "language": "python",
   "name": "python3"
  },
  "language_info": {
   "codemirror_mode": {
    "name": "ipython",
    "version": 3
   },
   "file_extension": ".py",
   "mimetype": "text/x-python",
   "name": "python",
   "nbconvert_exporter": "python",
   "pygments_lexer": "ipython3",
   "version": "3.10.4"
  },
  "orig_nbformat": 4
 },
 "nbformat": 4,
 "nbformat_minor": 2
}
